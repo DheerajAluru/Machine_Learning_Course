{
  "nbformat": 4,
  "nbformat_minor": 0,
  "metadata": {
    "colab": {
      "name": "Transfer learning Assignment.ipynb",
      "provenance": [],
      "collapsed_sections": [],
      "toc_visible": true,
      "machine_shape": "hm",
      "include_colab_link": true
    },
    "kernelspec": {
      "name": "python3",
      "display_name": "Python 3"
    },
    "accelerator": "GPU"
  },
  "cells": [
    {
      "cell_type": "markdown",
      "metadata": {
        "id": "view-in-github",
        "colab_type": "text"
      },
      "source": [
        "<a href=\"https://colab.research.google.com/github/DheerajAluru/Machine_Learning_Course/blob/main/Transfer_learning_Assignment.ipynb\" target=\"_parent\"><img src=\"https://colab.research.google.com/assets/colab-badge.svg\" alt=\"Open In Colab\"/></a>"
      ]
    },
    {
      "cell_type": "markdown",
      "metadata": {
        "id": "xmYJpmWUAftQ"
      },
      "source": [
        "##### Loading necessary packages"
      ]
    },
    {
      "cell_type": "code",
      "metadata": {
        "id": "r_nwlQ5gAe4r",
        "colab": {
          "base_uri": "https://localhost:8080/",
          "height": 35
        },
        "outputId": "9650d695-576f-4696-9608-86f7ae733203"
      },
      "source": [
        "\n",
        "import os\n",
        "import numpy as np\n",
        "import pandas as pd\n",
        "import tensorflow as tf\n",
        "from tensorflow.keras.layers import Dense,Input,Conv2D,MaxPool2D,Activation,Dropout,Flatten\n",
        "from tensorflow.keras.models import Model,Sequential\n",
        "import random as rn\n",
        "from keras.applications.vgg16 import VGG16\n",
        "from keras.applications.vgg16 import preprocess_input\n",
        "from keras.preprocessing import image\n",
        "from keras.preprocessing.image import ImageDataGenerator\n",
        "from glob import glob\n",
        "import matplotlib.pyplot as plt\n",
        "\n",
        "tf.__version__"
      ],
      "execution_count": 1,
      "outputs": [
        {
          "output_type": "execute_result",
          "data": {
            "application/vnd.google.colaboratory.intrinsic+json": {
              "type": "string"
            },
            "text/plain": [
              "'2.4.1'"
            ]
          },
          "metadata": {
            "tags": []
          },
          "execution_count": 1
        }
      ]
    },
    {
      "cell_type": "code",
      "metadata": {
        "id": "R5zzsWtI30zV",
        "colab": {
          "base_uri": "https://localhost:8080/"
        },
        "outputId": "f0ad84aa-b783-4416-f4a7-c78b3c61af44"
      },
      "source": [
        "tf.test.is_gpu_available()"
      ],
      "execution_count": 2,
      "outputs": [
        {
          "output_type": "stream",
          "text": [
            "WARNING:tensorflow:From <ipython-input-2-17bb7203622b>:1: is_gpu_available (from tensorflow.python.framework.test_util) is deprecated and will be removed in a future version.\n",
            "Instructions for updating:\n",
            "Use `tf.config.list_physical_devices('GPU')` instead.\n"
          ],
          "name": "stdout"
        },
        {
          "output_type": "execute_result",
          "data": {
            "text/plain": [
              "True"
            ]
          },
          "metadata": {
            "tags": []
          },
          "execution_count": 2
        }
      ]
    },
    {
      "cell_type": "markdown",
      "metadata": {
        "id": "w1V27OlZ-rXV"
      },
      "source": [
        "##### Downloading data"
      ]
    },
    {
      "cell_type": "code",
      "metadata": {
        "id": "FkKoCf07-Afi",
        "colab": {
          "base_uri": "https://localhost:8080/",
          "height": 138
        },
        "outputId": "cb3649e0-565f-4544-df68-0075fbb0442a"
      },
      "source": [
        "!wget --header=\"Host: doc-0c-80-docs.googleusercontent.com\" --header=\"User-Agent: Mozilla/5.0 (Windows NT 10.0; Win64; x64) AppleWebKit/537.36 (KHTML, like Gecko) Chrome/83.0.4103.97 Safari/537.36\" --header=\"Accept: text/html,application/xhtml+xml,application/xml;q=0.9,image/webp,image/apng,*/*;q=0.8,application/signed-exchange;v=b3;q=0.9\" --header=\"Accept-Language: en-US,en;q=0.9\" --header=\"Referer: https://drive.google.com/drive/u/1/folders/1eY4pTqtGtXSAYVzaHwWAK2Cq4bHb1Zkq\" --header=\"Cookie: AUTH_g91r08ja0v2lklj0jvdr2avi84sjt90s_nonce=nacpsmf5mqq3g\" --header=\"Connection: keep-alive\" \"https://doc-0c-80-docs.googleusercontent.com/docs/securesc/k665ivmiqmum3nhh9vv4ettek14o699p/9d78urp052d6gghgdt3sltlqm345gqfb/1592626950000/00484516897554883881/00484516897554883881/1Z4TyI7FcFVEx8qdl4jO9qxvxaqLSqoEu?e=download&authuser=1&nonce=nacpsmf5mqq3g&user=00484516897554883881&hash=mhlsmlam83ptm57hr8rpgpsdulq2ti0p\" -c -O 'rvl-cdip.rar'"
      ],
      "execution_count": null,
      "outputs": [
        {
          "output_type": "stream",
          "text": [
            "--2020-06-20 04:48:11--  https://doc-0c-80-docs.googleusercontent.com/docs/securesc/k665ivmiqmum3nhh9vv4ettek14o699p/9d78urp052d6gghgdt3sltlqm345gqfb/1592626950000/00484516897554883881/00484516897554883881/1Z4TyI7FcFVEx8qdl4jO9qxvxaqLSqoEu?e=download&authuser=1&nonce=nacpsmf5mqq3g&user=00484516897554883881&hash=mhlsmlam83ptm57hr8rpgpsdulq2ti0p\n",
            "Resolving doc-0c-80-docs.googleusercontent.com (doc-0c-80-docs.googleusercontent.com)... 74.125.203.132, 2404:6800:4008:c03::84\n",
            "Connecting to doc-0c-80-docs.googleusercontent.com (doc-0c-80-docs.googleusercontent.com)|74.125.203.132|:443... connected.\n",
            "HTTP request sent, awaiting response... 403 Forbidden\n",
            "2020-06-20 04:48:11 ERROR 403: Forbidden.\n",
            "\n"
          ],
          "name": "stdout"
        }
      ]
    },
    {
      "cell_type": "code",
      "metadata": {
        "id": "V4wOMHNUL5Oi",
        "outputId": "ab6cb840-84ce-46ef-efe2-dac5a9e41fd1",
        "colab": {
          "base_uri": "https://localhost:8080/"
        }
      },
      "source": [
        "!gdown --id 1QU2gjy_DcIiBIiy_cN6nx7tYHupUmdeU"
      ],
      "execution_count": 3,
      "outputs": [
        {
          "output_type": "stream",
          "text": [
            "Downloading...\n",
            "From: https://drive.google.com/uc?id=1QU2gjy_DcIiBIiy_cN6nx7tYHupUmdeU\n",
            "To: /content/rvl-cdip.rar\n",
            "4.66GB [01:28, 52.5MB/s]\n"
          ],
          "name": "stdout"
        }
      ]
    },
    {
      "cell_type": "markdown",
      "metadata": {
        "id": "2aKOxeFz-yA1"
      },
      "source": [
        "#### Extracting the rar file"
      ]
    },
    {
      "cell_type": "code",
      "metadata": {
        "id": "Xb6MKJUx-wvJ"
      },
      "source": [
        "get_ipython().system_raw(\"unrar x rvl-cdip.rar\") "
      ],
      "execution_count": 4,
      "outputs": []
    },
    {
      "cell_type": "markdown",
      "metadata": {
        "id": "0CSWtWTO-6Hn"
      },
      "source": [
        "##### Checking the directories"
      ]
    },
    {
      "cell_type": "code",
      "metadata": {
        "id": "HhPxRtik--DJ",
        "colab": {
          "base_uri": "https://localhost:8080/"
        },
        "outputId": "d6a93ddd-0dc9-409a-e0bc-4db743870d32"
      },
      "source": [
        "os.listdir()"
      ],
      "execution_count": 5,
      "outputs": [
        {
          "output_type": "execute_result",
          "data": {
            "text/plain": [
              "['.config', 'data_final', 'labels_final.csv', 'rvl-cdip.rar', 'sample_data']"
            ]
          },
          "metadata": {
            "tags": []
          },
          "execution_count": 5
        }
      ]
    },
    {
      "cell_type": "markdown",
      "metadata": {
        "id": "yyjOEBFb_D1e"
      },
      "source": [
        "##### Loading the data"
      ]
    },
    {
      "cell_type": "code",
      "metadata": {
        "id": "Cv0rHJia_IUq"
      },
      "source": [
        "import pandas as pd\n",
        "\n",
        "data = pd.read_csv('labels_final.csv') #reading the csv file"
      ],
      "execution_count": 6,
      "outputs": []
    },
    {
      "cell_type": "code",
      "metadata": {
        "id": "LZvwjf0F_WfF",
        "colab": {
          "base_uri": "https://localhost:8080/",
          "height": 204
        },
        "outputId": "3a3ba298-8189-4eda-ec1f-5a883002cc4a"
      },
      "source": [
        "data.head()"
      ],
      "execution_count": 8,
      "outputs": [
        {
          "output_type": "execute_result",
          "data": {
            "text/html": [
              "<div>\n",
              "<style scoped>\n",
              "    .dataframe tbody tr th:only-of-type {\n",
              "        vertical-align: middle;\n",
              "    }\n",
              "\n",
              "    .dataframe tbody tr th {\n",
              "        vertical-align: top;\n",
              "    }\n",
              "\n",
              "    .dataframe thead th {\n",
              "        text-align: right;\n",
              "    }\n",
              "</style>\n",
              "<table border=\"1\" class=\"dataframe\">\n",
              "  <thead>\n",
              "    <tr style=\"text-align: right;\">\n",
              "      <th></th>\n",
              "      <th>path</th>\n",
              "      <th>label</th>\n",
              "    </tr>\n",
              "  </thead>\n",
              "  <tbody>\n",
              "    <tr>\n",
              "      <th>0</th>\n",
              "      <td>imagesv/v/o/h/voh71d00/509132755+-2755.tif</td>\n",
              "      <td>3</td>\n",
              "    </tr>\n",
              "    <tr>\n",
              "      <th>1</th>\n",
              "      <td>imagesl/l/x/t/lxt19d00/502213303.tif</td>\n",
              "      <td>3</td>\n",
              "    </tr>\n",
              "    <tr>\n",
              "      <th>2</th>\n",
              "      <td>imagesx/x/e/d/xed05a00/2075325674.tif</td>\n",
              "      <td>2</td>\n",
              "    </tr>\n",
              "    <tr>\n",
              "      <th>3</th>\n",
              "      <td>imageso/o/j/b/ojb60d00/517511301+-1301.tif</td>\n",
              "      <td>3</td>\n",
              "    </tr>\n",
              "    <tr>\n",
              "      <th>4</th>\n",
              "      <td>imagesq/q/z/k/qzk17e00/2031320195.tif</td>\n",
              "      <td>7</td>\n",
              "    </tr>\n",
              "  </tbody>\n",
              "</table>\n",
              "</div>"
            ],
            "text/plain": [
              "                                         path  label\n",
              "0  imagesv/v/o/h/voh71d00/509132755+-2755.tif      3\n",
              "1        imagesl/l/x/t/lxt19d00/502213303.tif      3\n",
              "2       imagesx/x/e/d/xed05a00/2075325674.tif      2\n",
              "3  imageso/o/j/b/ojb60d00/517511301+-1301.tif      3\n",
              "4       imagesq/q/z/k/qzk17e00/2031320195.tif      7"
            ]
          },
          "metadata": {
            "tags": []
          },
          "execution_count": 8
        }
      ]
    },
    {
      "cell_type": "markdown",
      "metadata": {
        "id": "e1cwclkc_Zcs"
      },
      "source": [
        "##### Splitting data into train and validation data"
      ]
    },
    {
      "cell_type": "code",
      "metadata": {
        "id": "Ul_gmSPJ_YKU"
      },
      "source": [
        "from sklearn.model_selection import train_test_split\n",
        "\n",
        "train_path, validation_path, train_label, validation_label = train_test_split(data['path'], data['label'], test_size=0.2, random_state=42)"
      ],
      "execution_count": 7,
      "outputs": []
    },
    {
      "cell_type": "code",
      "metadata": {
        "id": "ooc3lX77_yJA",
        "colab": {
          "base_uri": "https://localhost:8080/"
        },
        "outputId": "cb5e9ff1-8215-4e61-aaf5-dc36c895d784"
      },
      "source": [
        "len(train_path)"
      ],
      "execution_count": 8,
      "outputs": [
        {
          "output_type": "execute_result",
          "data": {
            "text/plain": [
              "38400"
            ]
          },
          "metadata": {
            "tags": []
          },
          "execution_count": 8
        }
      ]
    },
    {
      "cell_type": "markdown",
      "metadata": {
        "id": "s3RDw43RUIN-"
      },
      "source": [
        "##### Creating a dictionary with labels as keys and category as value"
      ]
    },
    {
      "cell_type": "code",
      "metadata": {
        "id": "r8cohhvNT_dU"
      },
      "source": [
        "labels_dict = { 0 : 'letter',1: 'form',2: 'email',3 :'handwritten',4 :'advertisement',\n",
        "                5 : 'scientific report',6 : 'scientific publication',7 :'specification',8 : 'file folder',\n",
        "                9 : 'news article', 10 : 'budget', 11 : 'invoice',12 : 'presentation',\n",
        "               13 : 'questionnaire', 14 : 'resume', 15 : 'memo'}"
      ],
      "execution_count": 9,
      "outputs": []
    },
    {
      "cell_type": "code",
      "metadata": {
        "id": "89um3Wx1VhIq",
        "colab": {
          "base_uri": "https://localhost:8080/"
        },
        "outputId": "579a95eb-00de-483b-b0d7-33219d3f297f"
      },
      "source": [
        "labels_dict.values()"
      ],
      "execution_count": 10,
      "outputs": [
        {
          "output_type": "execute_result",
          "data": {
            "text/plain": [
              "dict_values(['letter', 'form', 'email', 'handwritten', 'advertisement', 'scientific report', 'scientific publication', 'specification', 'file folder', 'news article', 'budget', 'invoice', 'presentation', 'questionnaire', 'resume', 'memo'])"
            ]
          },
          "metadata": {
            "tags": []
          },
          "execution_count": 10
        }
      ]
    },
    {
      "cell_type": "markdown",
      "metadata": {
        "id": "JPnv0DuAYf_S"
      },
      "source": [
        "##### Creating train sub folders"
      ]
    },
    {
      "cell_type": "code",
      "metadata": {
        "id": "mXG31DU1AOaq"
      },
      "source": [
        "for subfolder_name in list(labels_dict.values()):\n",
        "    os.makedirs(os.path.join('train_images', subfolder_name))"
      ],
      "execution_count": 11,
      "outputs": []
    },
    {
      "cell_type": "code",
      "metadata": {
        "id": "KDLTiZLxMiE9",
        "colab": {
          "base_uri": "https://localhost:8080/"
        },
        "outputId": "474413f7-b1cf-4a54-a8ba-6435909111d9"
      },
      "source": [
        "os.listdir('train_images')"
      ],
      "execution_count": 12,
      "outputs": [
        {
          "output_type": "execute_result",
          "data": {
            "text/plain": [
              "['resume',\n",
              " 'scientific report',\n",
              " 'memo',\n",
              " 'news article',\n",
              " 'invoice',\n",
              " 'scientific publication',\n",
              " 'presentation',\n",
              " 'budget',\n",
              " 'questionnaire',\n",
              " 'form',\n",
              " 'email',\n",
              " 'handwritten',\n",
              " 'letter',\n",
              " 'file folder',\n",
              " 'specification',\n",
              " 'advertisement']"
            ]
          },
          "metadata": {
            "tags": []
          },
          "execution_count": 12
        }
      ]
    },
    {
      "cell_type": "code",
      "metadata": {
        "id": "bG-StjG-MlvY",
        "colab": {
          "base_uri": "https://localhost:8080/"
        },
        "outputId": "84adcb8d-0864-4705-edc4-6d5a541d8714"
      },
      "source": [
        "#https://thispointer.com/python-how-to-copy-files-from-one-location-to-another-using-shutil-copy/\n",
        "import shutil\n",
        "from tqdm import tqdm\n",
        "for file, label in tqdm(zip(train_path, train_label)):\n",
        "    shutil.copy('data_final/'+file ,'train_images/'+labels_dict[label]+'/')\n"
      ],
      "execution_count": 13,
      "outputs": [
        {
          "output_type": "stream",
          "text": [
            "38400it [01:34, 407.97it/s]\n"
          ],
          "name": "stderr"
        }
      ]
    },
    {
      "cell_type": "markdown",
      "metadata": {
        "id": "1Hubl0UlcHDF"
      },
      "source": [
        "##### Creating test folders"
      ]
    },
    {
      "cell_type": "code",
      "metadata": {
        "id": "YZbpkzxlcDJn"
      },
      "source": [
        "for subfolder_name in list(labels_dict.values()):\n",
        "    os.makedirs(os.path.join('validation_images', subfolder_name))"
      ],
      "execution_count": 14,
      "outputs": []
    },
    {
      "cell_type": "code",
      "metadata": {
        "id": "KXZNc1RocaHp",
        "colab": {
          "base_uri": "https://localhost:8080/"
        },
        "outputId": "98aa9dc5-7746-4927-b379-fa84b02e24a6"
      },
      "source": [
        "for file, label in tqdm(zip(validation_path, validation_label)):\n",
        "    shutil.copy('data_final/'+file ,'validation_images/'+labels_dict[label]+'/')"
      ],
      "execution_count": 15,
      "outputs": [
        {
          "output_type": "stream",
          "text": [
            "9600it [00:19, 487.00it/s]\n"
          ],
          "name": "stderr"
        }
      ]
    },
    {
      "cell_type": "code",
      "metadata": {
        "id": "2o-SSha2ZTL1",
        "colab": {
          "base_uri": "https://localhost:8080/"
        },
        "outputId": "ca70738e-a35e-4e33-c9a3-eb0330d5a479"
      },
      "source": [
        "dir_path= 'train_images'\n",
        "for i in os.listdir(dir_path):\n",
        "    print(\"No of Images in \",i,\" category is \",len(os.listdir(os.path.join(dir_path,i))))"
      ],
      "execution_count": 16,
      "outputs": [
        {
          "output_type": "stream",
          "text": [
            "No of Images in  resume  category is  2415\n",
            "No of Images in  scientific report  category is  2379\n",
            "No of Images in  memo  category is  2401\n",
            "No of Images in  news article  category is  2392\n",
            "No of Images in  invoice  category is  2397\n",
            "No of Images in  scientific publication  category is  2373\n",
            "No of Images in  presentation  category is  2428\n",
            "No of Images in  budget  category is  2422\n",
            "No of Images in  questionnaire  category is  2395\n",
            "No of Images in  form  category is  2407\n",
            "No of Images in  email  category is  2379\n",
            "No of Images in  handwritten  category is  2413\n",
            "No of Images in  letter  category is  2461\n",
            "No of Images in  file folder  category is  2351\n",
            "No of Images in  specification  category is  2391\n",
            "No of Images in  advertisement  category is  2393\n"
          ],
          "name": "stdout"
        }
      ]
    },
    {
      "cell_type": "code",
      "metadata": {
        "id": "1KeI9kalb7BX",
        "colab": {
          "base_uri": "https://localhost:8080/"
        },
        "outputId": "bfe04494-eb90-40c7-a475-d6c18477b20a"
      },
      "source": [
        "dir_path= 'validation_images'\n",
        "for i in os.listdir(dir_path):\n",
        "    print(\"No of Images in \",i,\" category is \",len(os.listdir(os.path.join(dir_path,i))))"
      ],
      "execution_count": 17,
      "outputs": [
        {
          "output_type": "stream",
          "text": [
            "No of Images in  resume  category is  590\n",
            "No of Images in  scientific report  category is  620\n",
            "No of Images in  memo  category is  595\n",
            "No of Images in  news article  category is  609\n",
            "No of Images in  invoice  category is  595\n",
            "No of Images in  scientific publication  category is  612\n",
            "No of Images in  presentation  category is  578\n",
            "No of Images in  budget  category is  580\n",
            "No of Images in  questionnaire  category is  612\n",
            "No of Images in  form  category is  587\n",
            "No of Images in  email  category is  614\n",
            "No of Images in  handwritten  category is  592\n",
            "No of Images in  letter  category is  554\n",
            "No of Images in  file folder  category is  652\n",
            "No of Images in  specification  category is  609\n",
            "No of Images in  advertisement  category is  601\n"
          ],
          "name": "stdout"
        }
      ]
    },
    {
      "cell_type": "code",
      "metadata": {
        "id": "Ow7rZoHkdovA",
        "colab": {
          "base_uri": "https://localhost:8080/"
        },
        "outputId": "91483c01-f8da-4547-854c-fc9890ef3319"
      },
      "source": [
        "dir_path= 'train_images'\n",
        "ImageFlow = tf.keras.preprocessing.image.ImageDataGenerator()\n",
        "ImageGenerator_train = ImageFlow.flow_from_directory(dir_path,target_size=(400,600),seed=10,batch_size=32)"
      ],
      "execution_count": 18,
      "outputs": [
        {
          "output_type": "stream",
          "text": [
            "Found 38397 images belonging to 16 classes.\n"
          ],
          "name": "stdout"
        }
      ]
    },
    {
      "cell_type": "code",
      "metadata": {
        "id": "iBWs22iMglfg",
        "colab": {
          "base_uri": "https://localhost:8080/"
        },
        "outputId": "771a180e-a160-4816-e53e-e5f9f8cff8e3"
      },
      "source": [
        "dir_path='validation_images'\n",
        "ImageGenerator_validation = ImageFlow.flow_from_directory(dir_path,target_size=(400,600),seed=10,batch_size=32)"
      ],
      "execution_count": 19,
      "outputs": [
        {
          "output_type": "stream",
          "text": [
            "Found 9600 images belonging to 16 classes.\n"
          ],
          "name": "stdout"
        }
      ]
    },
    {
      "cell_type": "code",
      "metadata": {
        "id": "b5PIFSDQ_W6H",
        "colab": {
          "base_uri": "https://localhost:8080/"
        },
        "outputId": "c123140a-bc1a-4cda-d55b-b7d0fd791008"
      },
      "source": [
        "IMAGE_SIZE = [224, 224]\r\n",
        "vgg = VGG16(input_shape=IMAGE_SIZE + [3], weights='imagenet', include_top=False)"
      ],
      "execution_count": 20,
      "outputs": [
        {
          "output_type": "stream",
          "text": [
            "Downloading data from https://storage.googleapis.com/tensorflow/keras-applications/vgg16/vgg16_weights_tf_dim_ordering_tf_kernels_notop.h5\n",
            "58892288/58889256 [==============================] - 1s 0us/step\n"
          ],
          "name": "stdout"
        }
      ]
    },
    {
      "cell_type": "code",
      "metadata": {
        "id": "TFrzPWOVPqG7"
      },
      "source": [
        "train_path = 'train_images'\r\n",
        "valid_path = 'validation_images'"
      ],
      "execution_count": 21,
      "outputs": []
    },
    {
      "cell_type": "code",
      "metadata": {
        "id": "L0PL34cPPvmD"
      },
      "source": [
        "for layer in vgg.layers:\r\n",
        "  layer.trainable = False"
      ],
      "execution_count": 22,
      "outputs": []
    },
    {
      "cell_type": "code",
      "metadata": {
        "id": "IyADqGUdPzH4"
      },
      "source": [
        "folders = glob('train_images/*')"
      ],
      "execution_count": 23,
      "outputs": []
    },
    {
      "cell_type": "code",
      "metadata": {
        "id": "ZzWrmwYBP2_6"
      },
      "source": [
        "import os\r\n",
        "os.environ['PYTHONHASHSEED'] = '0'\r\n",
        "\r\n",
        "##https://keras.io/getting-started/faq/#how-can-i-obtain-reproducible-results-using-keras-during-development\r\n",
        "## Have to clear the session. If you are not clearing, Graph will create again and again and graph size will increses. \r\n",
        "## Varibles will also set to some value from before session\r\n",
        "tf.keras.backend.clear_session()\r\n",
        "\r\n",
        "## Set the random seed values to regenerate the model.\r\n",
        "np.random.seed(0)\r\n",
        "rn.seed(0)\r\n",
        "\r\n",
        "#Input layer\r\n",
        "input_layer = Input(shape=(156,256,3),name='Input_Layer')\r\n",
        "\r\n",
        "#Conv Layer\r\n",
        "Conv1 = Conv2D(filters=32,kernel_size=(3,3),strides=(1,1),padding='valid',data_format='channels_last',\r\n",
        "              activation='relu',kernel_initializer=tf.keras.initializers.he_normal(seed=0),name='Conv1')(input_layer)\r\n",
        "#MaxPool Layer\r\n",
        "Pool1 = MaxPool2D(pool_size=(2,2),strides=(2,2),padding='valid',data_format='channels_last',name='Pool1')(Conv1)\r\n",
        "\r\n",
        "\r\n",
        "#Flatten\r\n",
        "flatten = Flatten(data_format='channels_last',name='Flatten')(Pool1)\r\n",
        "\r\n",
        "#FC layer\r\n",
        "FC1 = Dense(units=30,activation='relu',kernel_initializer=tf.keras.initializers.glorot_normal(seed=32),name='FC1')(flatten)\r\n",
        "\r\n",
        "#FC layer\r\n",
        "FC2 = Dense(units=15,activation='relu',kernel_initializer=tf.keras.initializers.glorot_normal(seed=33),name='FC2')(FC1)\r\n",
        "\r\n",
        "#output layer\r\n",
        "Out = Dense(units=8,activation='softmax',kernel_initializer=tf.keras.initializers.glorot_normal(seed=3),name='Output')(FC2)\r\n",
        "\r\n",
        "#Creating a model\r\n",
        "model = Model(inputs=input_layer,outputs=Out)"
      ],
      "execution_count": 24,
      "outputs": []
    },
    {
      "cell_type": "code",
      "metadata": {
        "id": "5iOEwArlRQaU",
        "outputId": "f4855f90-00fc-484a-9e96-6e0019a7bb5b",
        "colab": {
          "base_uri": "https://localhost:8080/"
        }
      },
      "source": [
        "model.summary()"
      ],
      "execution_count": 25,
      "outputs": [
        {
          "output_type": "stream",
          "text": [
            "Model: \"model\"\n",
            "_________________________________________________________________\n",
            "Layer (type)                 Output Shape              Param #   \n",
            "=================================================================\n",
            "Input_Layer (InputLayer)     [(None, 156, 256, 3)]     0         \n",
            "_________________________________________________________________\n",
            "Conv1 (Conv2D)               (None, 154, 254, 32)      896       \n",
            "_________________________________________________________________\n",
            "Pool1 (MaxPooling2D)         (None, 77, 127, 32)       0         \n",
            "_________________________________________________________________\n",
            "Flatten (Flatten)            (None, 312928)            0         \n",
            "_________________________________________________________________\n",
            "FC1 (Dense)                  (None, 30)                9387870   \n",
            "_________________________________________________________________\n",
            "FC2 (Dense)                  (None, 15)                465       \n",
            "_________________________________________________________________\n",
            "Output (Dense)               (None, 8)                 128       \n",
            "=================================================================\n",
            "Total params: 9,389,359\n",
            "Trainable params: 9,389,359\n",
            "Non-trainable params: 0\n",
            "_________________________________________________________________\n"
          ],
          "name": "stdout"
        }
      ]
    },
    {
      "cell_type": "code",
      "metadata": {
        "id": "tyVrc8o5RSaJ"
      },
      "source": [
        "model.compile(optimizer=tf.keras.optimizers.Adam(lr=0.01),loss='categorical_crossentropy',metrics=['accuracy'])"
      ],
      "execution_count": 26,
      "outputs": []
    },
    {
      "cell_type": "code",
      "metadata": {
        "id": "DPcuoirqRh98",
        "outputId": "b7250d2d-7706-4986-a227-46c5f374401a",
        "colab": {
          "base_uri": "https://localhost:8080/",
          "height": 1000
        }
      },
      "source": [
        "model.fit_generator(ImageGenerator_train,steps_per_epoch=len(ImageGenerator_train),epochs=3)"
      ],
      "execution_count": 31,
      "outputs": [
        {
          "output_type": "stream",
          "text": [
            "/usr/local/lib/python3.7/dist-packages/tensorflow/python/keras/engine/training.py:1844: UserWarning: `Model.fit_generator` is deprecated and will be removed in a future version. Please use `Model.fit`, which supports generators.\n",
            "  warnings.warn('`Model.fit_generator` is deprecated and '\n"
          ],
          "name": "stderr"
        },
        {
          "output_type": "stream",
          "text": [
            "Epoch 1/3\n"
          ],
          "name": "stdout"
        },
        {
          "output_type": "error",
          "ename": "InvalidArgumentError",
          "evalue": "ignored",
          "traceback": [
            "\u001b[0;31m---------------------------------------------------------------------------\u001b[0m",
            "\u001b[0;31mInvalidArgumentError\u001b[0m                      Traceback (most recent call last)",
            "\u001b[0;32m<ipython-input-31-9c9f1c472b48>\u001b[0m in \u001b[0;36m<module>\u001b[0;34m()\u001b[0m\n\u001b[0;32m----> 1\u001b[0;31m \u001b[0mmodel\u001b[0m\u001b[0;34m.\u001b[0m\u001b[0mfit_generator\u001b[0m\u001b[0;34m(\u001b[0m\u001b[0mImageGenerator_train\u001b[0m\u001b[0;34m,\u001b[0m\u001b[0msteps_per_epoch\u001b[0m\u001b[0;34m=\u001b[0m\u001b[0mlen\u001b[0m\u001b[0;34m(\u001b[0m\u001b[0mImageGenerator_train\u001b[0m\u001b[0;34m)\u001b[0m\u001b[0;34m,\u001b[0m\u001b[0mepochs\u001b[0m\u001b[0;34m=\u001b[0m\u001b[0;36m3\u001b[0m\u001b[0;34m)\u001b[0m\u001b[0;34m\u001b[0m\u001b[0;34m\u001b[0m\u001b[0m\n\u001b[0m",
            "\u001b[0;32m/usr/local/lib/python3.7/dist-packages/tensorflow/python/keras/engine/training.py\u001b[0m in \u001b[0;36mfit_generator\u001b[0;34m(self, generator, steps_per_epoch, epochs, verbose, callbacks, validation_data, validation_steps, validation_freq, class_weight, max_queue_size, workers, use_multiprocessing, shuffle, initial_epoch)\u001b[0m\n\u001b[1;32m   1859\u001b[0m         \u001b[0muse_multiprocessing\u001b[0m\u001b[0;34m=\u001b[0m\u001b[0muse_multiprocessing\u001b[0m\u001b[0;34m,\u001b[0m\u001b[0;34m\u001b[0m\u001b[0;34m\u001b[0m\u001b[0m\n\u001b[1;32m   1860\u001b[0m         \u001b[0mshuffle\u001b[0m\u001b[0;34m=\u001b[0m\u001b[0mshuffle\u001b[0m\u001b[0;34m,\u001b[0m\u001b[0;34m\u001b[0m\u001b[0;34m\u001b[0m\u001b[0m\n\u001b[0;32m-> 1861\u001b[0;31m         initial_epoch=initial_epoch)\n\u001b[0m\u001b[1;32m   1862\u001b[0m \u001b[0;34m\u001b[0m\u001b[0m\n\u001b[1;32m   1863\u001b[0m   def evaluate_generator(self,\n",
            "\u001b[0;32m/usr/local/lib/python3.7/dist-packages/tensorflow/python/keras/engine/training.py\u001b[0m in \u001b[0;36mfit\u001b[0;34m(self, x, y, batch_size, epochs, verbose, callbacks, validation_split, validation_data, shuffle, class_weight, sample_weight, initial_epoch, steps_per_epoch, validation_steps, validation_batch_size, validation_freq, max_queue_size, workers, use_multiprocessing)\u001b[0m\n\u001b[1;32m   1098\u001b[0m                 _r=1):\n\u001b[1;32m   1099\u001b[0m               \u001b[0mcallbacks\u001b[0m\u001b[0;34m.\u001b[0m\u001b[0mon_train_batch_begin\u001b[0m\u001b[0;34m(\u001b[0m\u001b[0mstep\u001b[0m\u001b[0;34m)\u001b[0m\u001b[0;34m\u001b[0m\u001b[0;34m\u001b[0m\u001b[0m\n\u001b[0;32m-> 1100\u001b[0;31m               \u001b[0mtmp_logs\u001b[0m \u001b[0;34m=\u001b[0m \u001b[0mself\u001b[0m\u001b[0;34m.\u001b[0m\u001b[0mtrain_function\u001b[0m\u001b[0;34m(\u001b[0m\u001b[0miterator\u001b[0m\u001b[0;34m)\u001b[0m\u001b[0;34m\u001b[0m\u001b[0;34m\u001b[0m\u001b[0m\n\u001b[0m\u001b[1;32m   1101\u001b[0m               \u001b[0;32mif\u001b[0m \u001b[0mdata_handler\u001b[0m\u001b[0;34m.\u001b[0m\u001b[0mshould_sync\u001b[0m\u001b[0;34m:\u001b[0m\u001b[0;34m\u001b[0m\u001b[0;34m\u001b[0m\u001b[0m\n\u001b[1;32m   1102\u001b[0m                 \u001b[0mcontext\u001b[0m\u001b[0;34m.\u001b[0m\u001b[0masync_wait\u001b[0m\u001b[0;34m(\u001b[0m\u001b[0;34m)\u001b[0m\u001b[0;34m\u001b[0m\u001b[0;34m\u001b[0m\u001b[0m\n",
            "\u001b[0;32m/usr/local/lib/python3.7/dist-packages/tensorflow/python/eager/def_function.py\u001b[0m in \u001b[0;36m__call__\u001b[0;34m(self, *args, **kwds)\u001b[0m\n\u001b[1;32m    826\u001b[0m     \u001b[0mtracing_count\u001b[0m \u001b[0;34m=\u001b[0m \u001b[0mself\u001b[0m\u001b[0;34m.\u001b[0m\u001b[0mexperimental_get_tracing_count\u001b[0m\u001b[0;34m(\u001b[0m\u001b[0;34m)\u001b[0m\u001b[0;34m\u001b[0m\u001b[0;34m\u001b[0m\u001b[0m\n\u001b[1;32m    827\u001b[0m     \u001b[0;32mwith\u001b[0m \u001b[0mtrace\u001b[0m\u001b[0;34m.\u001b[0m\u001b[0mTrace\u001b[0m\u001b[0;34m(\u001b[0m\u001b[0mself\u001b[0m\u001b[0;34m.\u001b[0m\u001b[0m_name\u001b[0m\u001b[0;34m)\u001b[0m \u001b[0;32mas\u001b[0m \u001b[0mtm\u001b[0m\u001b[0;34m:\u001b[0m\u001b[0;34m\u001b[0m\u001b[0;34m\u001b[0m\u001b[0m\n\u001b[0;32m--> 828\u001b[0;31m       \u001b[0mresult\u001b[0m \u001b[0;34m=\u001b[0m \u001b[0mself\u001b[0m\u001b[0;34m.\u001b[0m\u001b[0m_call\u001b[0m\u001b[0;34m(\u001b[0m\u001b[0;34m*\u001b[0m\u001b[0margs\u001b[0m\u001b[0;34m,\u001b[0m \u001b[0;34m**\u001b[0m\u001b[0mkwds\u001b[0m\u001b[0;34m)\u001b[0m\u001b[0;34m\u001b[0m\u001b[0;34m\u001b[0m\u001b[0m\n\u001b[0m\u001b[1;32m    829\u001b[0m       \u001b[0mcompiler\u001b[0m \u001b[0;34m=\u001b[0m \u001b[0;34m\"xla\"\u001b[0m \u001b[0;32mif\u001b[0m \u001b[0mself\u001b[0m\u001b[0;34m.\u001b[0m\u001b[0m_experimental_compile\u001b[0m \u001b[0;32melse\u001b[0m \u001b[0;34m\"nonXla\"\u001b[0m\u001b[0;34m\u001b[0m\u001b[0;34m\u001b[0m\u001b[0m\n\u001b[1;32m    830\u001b[0m       \u001b[0mnew_tracing_count\u001b[0m \u001b[0;34m=\u001b[0m \u001b[0mself\u001b[0m\u001b[0;34m.\u001b[0m\u001b[0mexperimental_get_tracing_count\u001b[0m\u001b[0;34m(\u001b[0m\u001b[0;34m)\u001b[0m\u001b[0;34m\u001b[0m\u001b[0;34m\u001b[0m\u001b[0m\n",
            "\u001b[0;32m/usr/local/lib/python3.7/dist-packages/tensorflow/python/eager/def_function.py\u001b[0m in \u001b[0;36m_call\u001b[0;34m(self, *args, **kwds)\u001b[0m\n\u001b[1;32m    853\u001b[0m       \u001b[0;31m# In this case we have created variables on the first call, so we run the\u001b[0m\u001b[0;34m\u001b[0m\u001b[0;34m\u001b[0m\u001b[0;34m\u001b[0m\u001b[0m\n\u001b[1;32m    854\u001b[0m       \u001b[0;31m# defunned version which is guaranteed to never create variables.\u001b[0m\u001b[0;34m\u001b[0m\u001b[0;34m\u001b[0m\u001b[0;34m\u001b[0m\u001b[0m\n\u001b[0;32m--> 855\u001b[0;31m       \u001b[0;32mreturn\u001b[0m \u001b[0mself\u001b[0m\u001b[0;34m.\u001b[0m\u001b[0m_stateless_fn\u001b[0m\u001b[0;34m(\u001b[0m\u001b[0;34m*\u001b[0m\u001b[0margs\u001b[0m\u001b[0;34m,\u001b[0m \u001b[0;34m**\u001b[0m\u001b[0mkwds\u001b[0m\u001b[0;34m)\u001b[0m  \u001b[0;31m# pylint: disable=not-callable\u001b[0m\u001b[0;34m\u001b[0m\u001b[0;34m\u001b[0m\u001b[0m\n\u001b[0m\u001b[1;32m    856\u001b[0m     \u001b[0;32melif\u001b[0m \u001b[0mself\u001b[0m\u001b[0;34m.\u001b[0m\u001b[0m_stateful_fn\u001b[0m \u001b[0;32mis\u001b[0m \u001b[0;32mnot\u001b[0m \u001b[0;32mNone\u001b[0m\u001b[0;34m:\u001b[0m\u001b[0;34m\u001b[0m\u001b[0;34m\u001b[0m\u001b[0m\n\u001b[1;32m    857\u001b[0m       \u001b[0;31m# Release the lock early so that multiple threads can perform the call\u001b[0m\u001b[0;34m\u001b[0m\u001b[0;34m\u001b[0m\u001b[0;34m\u001b[0m\u001b[0m\n",
            "\u001b[0;32m/usr/local/lib/python3.7/dist-packages/tensorflow/python/eager/function.py\u001b[0m in \u001b[0;36m__call__\u001b[0;34m(self, *args, **kwargs)\u001b[0m\n\u001b[1;32m   2941\u001b[0m        filtered_flat_args) = self._maybe_define_function(args, kwargs)\n\u001b[1;32m   2942\u001b[0m     return graph_function._call_flat(\n\u001b[0;32m-> 2943\u001b[0;31m         filtered_flat_args, captured_inputs=graph_function.captured_inputs)  # pylint: disable=protected-access\n\u001b[0m\u001b[1;32m   2944\u001b[0m \u001b[0;34m\u001b[0m\u001b[0m\n\u001b[1;32m   2945\u001b[0m   \u001b[0;34m@\u001b[0m\u001b[0mproperty\u001b[0m\u001b[0;34m\u001b[0m\u001b[0;34m\u001b[0m\u001b[0m\n",
            "\u001b[0;32m/usr/local/lib/python3.7/dist-packages/tensorflow/python/eager/function.py\u001b[0m in \u001b[0;36m_call_flat\u001b[0;34m(self, args, captured_inputs, cancellation_manager)\u001b[0m\n\u001b[1;32m   1917\u001b[0m       \u001b[0;31m# No tape is watching; skip to running the function.\u001b[0m\u001b[0;34m\u001b[0m\u001b[0;34m\u001b[0m\u001b[0;34m\u001b[0m\u001b[0m\n\u001b[1;32m   1918\u001b[0m       return self._build_call_outputs(self._inference_function.call(\n\u001b[0;32m-> 1919\u001b[0;31m           ctx, args, cancellation_manager=cancellation_manager))\n\u001b[0m\u001b[1;32m   1920\u001b[0m     forward_backward = self._select_forward_and_backward_functions(\n\u001b[1;32m   1921\u001b[0m         \u001b[0margs\u001b[0m\u001b[0;34m,\u001b[0m\u001b[0;34m\u001b[0m\u001b[0;34m\u001b[0m\u001b[0m\n",
            "\u001b[0;32m/usr/local/lib/python3.7/dist-packages/tensorflow/python/eager/function.py\u001b[0m in \u001b[0;36mcall\u001b[0;34m(self, ctx, args, cancellation_manager)\u001b[0m\n\u001b[1;32m    558\u001b[0m               \u001b[0minputs\u001b[0m\u001b[0;34m=\u001b[0m\u001b[0margs\u001b[0m\u001b[0;34m,\u001b[0m\u001b[0;34m\u001b[0m\u001b[0;34m\u001b[0m\u001b[0m\n\u001b[1;32m    559\u001b[0m               \u001b[0mattrs\u001b[0m\u001b[0;34m=\u001b[0m\u001b[0mattrs\u001b[0m\u001b[0;34m,\u001b[0m\u001b[0;34m\u001b[0m\u001b[0;34m\u001b[0m\u001b[0m\n\u001b[0;32m--> 560\u001b[0;31m               ctx=ctx)\n\u001b[0m\u001b[1;32m    561\u001b[0m         \u001b[0;32melse\u001b[0m\u001b[0;34m:\u001b[0m\u001b[0;34m\u001b[0m\u001b[0;34m\u001b[0m\u001b[0m\n\u001b[1;32m    562\u001b[0m           outputs = execute.execute_with_cancellation(\n",
            "\u001b[0;32m/usr/local/lib/python3.7/dist-packages/tensorflow/python/eager/execute.py\u001b[0m in \u001b[0;36mquick_execute\u001b[0;34m(op_name, num_outputs, inputs, attrs, ctx, name)\u001b[0m\n\u001b[1;32m     58\u001b[0m     \u001b[0mctx\u001b[0m\u001b[0;34m.\u001b[0m\u001b[0mensure_initialized\u001b[0m\u001b[0;34m(\u001b[0m\u001b[0;34m)\u001b[0m\u001b[0;34m\u001b[0m\u001b[0;34m\u001b[0m\u001b[0m\n\u001b[1;32m     59\u001b[0m     tensors = pywrap_tfe.TFE_Py_Execute(ctx._handle, device_name, op_name,\n\u001b[0;32m---> 60\u001b[0;31m                                         inputs, attrs, num_outputs)\n\u001b[0m\u001b[1;32m     61\u001b[0m   \u001b[0;32mexcept\u001b[0m \u001b[0mcore\u001b[0m\u001b[0;34m.\u001b[0m\u001b[0m_NotOkStatusException\u001b[0m \u001b[0;32mas\u001b[0m \u001b[0me\u001b[0m\u001b[0;34m:\u001b[0m\u001b[0;34m\u001b[0m\u001b[0;34m\u001b[0m\u001b[0m\n\u001b[1;32m     62\u001b[0m     \u001b[0;32mif\u001b[0m \u001b[0mname\u001b[0m \u001b[0;32mis\u001b[0m \u001b[0;32mnot\u001b[0m \u001b[0;32mNone\u001b[0m\u001b[0;34m:\u001b[0m\u001b[0;34m\u001b[0m\u001b[0;34m\u001b[0m\u001b[0m\n",
            "\u001b[0;31mInvalidArgumentError\u001b[0m:  Input to reshape is a tensor with 60929024 values, but the requested shape requires a multiple of 312928\n\t [[node model/Flatten/Reshape (defined at <ipython-input-29-2d1dcd047dfd>:1) ]] [Op:__inference_train_function_1099]\n\nFunction call stack:\ntrain_function\n"
          ]
        }
      ]
    }
  ]
}